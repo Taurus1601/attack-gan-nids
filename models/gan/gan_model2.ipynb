{
 "cells": [
  {
   "cell_type": "code",
   "execution_count": 2,
   "metadata": {},
   "outputs": [
    {
     "name": "stdout",
     "output_type": "stream",
     "text": [
      "\n",
      "Normalized features details:\n",
      "IN_BYTES:\n",
      "  Min: -1.0\n",
      "  Max: 0.9999999999999998\n",
      "  Mean: -0.9999650892429427\n",
      "  Standard Deviation: 0.001456691587323448\n",
      "\n",
      "OUT_BYTES:\n",
      "  Min: -1.0\n",
      "  Max: 1.0\n",
      "  Mean: -0.9999219680890346\n",
      "  Standard Deviation: 0.0024122585460325152\n",
      "\n",
      "IN_PKTS:\n",
      "  Min: -1.0\n",
      "  Max: 1.0\n",
      "  Mean: -0.999941646970273\n",
      "  Standard Deviation: 0.003115363803918613\n",
      "\n",
      "OUT_PKTS:\n",
      "  Min: -1.0\n",
      "  Max: 0.9999999999999998\n",
      "  Mean: -0.9999814441996424\n",
      "  Standard Deviation: 0.0007698215421739803\n",
      "\n",
      "TCP_FLAGS:\n",
      "  Min: -1.0\n",
      "  Max: 1.0\n",
      "  Mean: -0.5429929740363992\n",
      "  Standard Deviation: 0.6935968871360025\n",
      "\n",
      "FLOW_DURATION_MILLISECONDS:\n",
      "  Min: -1.0\n",
      "  Max: 1.0\n",
      "  Mean: 0.007425125459183499\n",
      "  Standard Deviation: 0.9976828530681369\n",
      "\n",
      "Preprocessed data saved as ../data/pre_processed/preprocessed_nf_uq_nids_haaa.csv\n",
      "\n",
      "Sample of processed data:\n",
      "   IN_BYTES  OUT_BYTES   IN_PKTS  OUT_PKTS  TCP_FLAGS  \\\n",
      "0 -0.999915  -0.999997 -0.999982 -0.999988  -0.775785   \n",
      "1 -0.999984  -0.999999 -0.999990 -0.999997  -0.775785   \n",
      "2 -0.999984  -0.999990 -0.999957 -0.999967  -0.775785   \n",
      "3 -0.999995  -0.999927 -0.999984 -0.999982  -0.757848   \n",
      "4 -0.999984  -0.999981 -0.999948 -0.999950  -0.775785   \n",
      "\n",
      "   FLOW_DURATION_MILLISECONDS  Label  \n",
      "0                   -0.999993      0  \n",
      "1                   -1.000000      0  \n",
      "2                   -0.999483      0  \n",
      "3                   -0.999942      0  \n",
      "4                   -0.999321      0  \n"
     ]
    }
   ],
   "source": [
    "import pandas as pd\n",
    "import numpy as np\n",
    "from sklearn.preprocessing import StandardScaler, MinMaxScaler\n",
    "\n",
    "# Step 1: Load Dataset\n",
    "csv_path = \"../data/e3bd3035f88e55fa_MOHANAD_A4706/data/NF-UQ-NIDS.csv\"\n",
    "data = pd.read_csv(csv_path)\n",
    "\n",
    "# Step 2: Select Relevant Features\n",
    "selected_features = [\n",
    "    \"IN_BYTES\", \"OUT_BYTES\", \"IN_PKTS\", \"OUT_PKTS\", \n",
    "    \"TCP_FLAGS\", \"FLOW_DURATION_MILLISECONDS\", \"Label\"\n",
    "]\n",
    "data = data[selected_features]\n",
    "\n",
    "# Step 3: Handle Missing Values\n",
    "data = data.dropna()\n",
    "\n",
    "# Step 4: Normalize Features\n",
    "def normalize_minus_one_to_one(df, columns):\n",
    "    # Create a copy of the dataframe\n",
    "    normalized_df = df.copy()\n",
    "    \n",
    "    # Use MinMaxScaler to transform to [-1, 1]\n",
    "    min_max_scaler = MinMaxScaler(feature_range=(-1, 1))\n",
    "    \n",
    "    # Fit and transform the specified columns\n",
    "    normalized_columns = min_max_scaler.fit_transform(df[columns])\n",
    "    \n",
    "    # Replace the columns in the dataframe\n",
    "    normalized_df[columns] = normalized_columns\n",
    "    \n",
    "    return normalized_df, min_max_scaler\n",
    "\n",
    "# Normalize features\n",
    "features_to_normalize = [col for col in data.columns if col != \"Label\"]\n",
    "data, scaler = normalize_minus_one_to_one(data, features_to_normalize)\n",
    "\n",
    "# Verification\n",
    "print(\"\\nNormalized features details:\")\n",
    "for feature in features_to_normalize:\n",
    "    print(f\"{feature}:\")\n",
    "    print(\"  Min:\", data[feature].min())\n",
    "    print(\"  Max:\", data[feature].max())\n",
    "    print(\"  Mean:\", data[feature].mean())\n",
    "    print(\"  Standard Deviation:\", data[feature].std())\n",
    "    print()\n",
    "\n",
    "# Save Preprocessed Data\n",
    "preprocessed_filename = \"../data/pre_processed/preprocessed_nf_uq_nids_haaa.csv\"\n",
    "data.to_csv(preprocessed_filename, index=False)\n",
    "print(f\"Preprocessed data saved as {preprocessed_filename}\")\n",
    "\n",
    "# Sample of processed data\n",
    "print(\"\\nSample of processed data:\")\n",
    "print(data.head())"
   ]
  },
  {
   "cell_type": "code",
   "execution_count": 7,
   "metadata": {},
   "outputs": [
    {
     "name": "stdout",
     "output_type": "stream",
     "text": [
      "Unique labels: [0 1]\n",
      "Label encoding mapping:\n",
      "0: 0\n",
      "1: 1\n"
     ]
    }
   ],
   "source": [
    "import pandas as pd\n",
    "from sklearn.preprocessing import LabelEncoder\n",
    "\n",
    "# Load the preprocessed dataset\n",
    "preprocessed_filename = \"../data/pre_processed/preprocessed_nf_uq_nids_haaa.csv\"\n",
    "data = pd.read_csv(preprocessed_filename)\n",
    "\n",
    "# Encode categorical labels\n",
    "label_encoder = LabelEncoder()\n",
    "data['Label'] = label_encoder.fit_transform(data['Label'])\n",
    "\n",
    "# Verify the unique labels\n",
    "print(\"Unique labels:\", label_encoder.classes_)\n",
    "\n",
    "# Separate features and labels\n",
    "X = data.drop('Label', axis=1).values\n",
    "y = data['Label'].values\n",
    "\n",
    "# Print the unique labels and their corresponding encoded values\n",
    "print(\"Label encoding mapping:\")\n",
    "for label, encoded_value in zip(label_encoder.classes_, label_encoder.transform(label_encoder.classes_)):\n",
    "    print(f\"{label}: {encoded_value}\")\n",
    "\n",
    "# Filter only attack data for GAN training\n",
    "attack_label = 1  # Assuming 1 represents \"attack\"\n",
    "X_attack = X[y == attack_label]"
   ]
  },
  {
   "cell_type": "code",
   "execution_count": 14,
   "metadata": {},
   "outputs": [
    {
     "name": "stdout",
     "output_type": "stream",
     "text": [
      "Unique labels: [0 1]\n",
      "Label encoding mapping:\n",
      "0: 0\n",
      "1: 1\n"
     ]
    }
   ],
   "source": [
    "import pandas as pd\n",
    "from sklearn.preprocessing import LabelEncoder, MinMaxScaler\n",
    "\n",
    "# Load the preprocessed dataset\n",
    "preprocessed_filename = \"../data/pre_processed/preprocessed_nf_uq_nids_haaa.csv\"\n",
    "data = pd.read_csv(preprocessed_filename)\n",
    "\n",
    "# Encode categorical labels\n",
    "label_encoder = LabelEncoder()\n",
    "data['Label'] = label_encoder.fit_transform(data['Label'])\n",
    "\n",
    "# Verify the unique labels\n",
    "print(\"Unique labels:\", label_encoder.classes_)\n",
    "\n",
    "# Separate features and labels\n",
    "X = data.drop('Label', axis=1).values\n",
    "y = data['Label'].values\n",
    "\n",
    "# Print the unique labels and their corresponding encoded values\n",
    "print(\"Label encoding mapping:\")\n",
    "for label, encoded_value in zip(label_encoder.classes_, label_encoder.transform(label_encoder.classes_)):\n",
    "    print(f\"{label}: {encoded_value}\")\n",
    "\n",
    "# Filter only attack data for GAN training\n",
    "attack_label = 1  # Assuming 1 represents \"attack\"\n",
    "X_attack = X[y == attack_label]\n",
    "\n",
    "# Normalize the attack data to the range [-1, 1]\n",
    "scaler = MinMaxScaler(feature_range=(-1, 1))\n",
    "X_attack = scaler.fit_transform(X_attack)"
   ]
  },
  {
   "cell_type": "code",
   "execution_count": 15,
   "metadata": {},
   "outputs": [
    {
     "name": "stderr",
     "output_type": "stream",
     "text": [
      "/Users/sanjanathyady/Desktop/project-2/.venv/lib/python3.9/site-packages/keras/src/layers/core/dense.py:87: UserWarning: Do not pass an `input_shape`/`input_dim` argument to a layer. When using Sequential models, prefer using an `Input(shape)` object as the first layer in the model instead.\n",
      "  super().__init__(activity_regularizer=activity_regularizer, **kwargs)\n"
     ]
    }
   ],
   "source": [
    "import tensorflow as tf\n",
    "from tensorflow.keras import layers\n",
    "\n",
    "# Define the generator model\n",
    "def build_generator(input_dim, output_dim):\n",
    "    model = tf.keras.Sequential()\n",
    "    model.add(layers.Dense(128, activation='relu', input_dim=input_dim))\n",
    "    model.add(layers.Dense(256, activation='relu'))\n",
    "    model.add(layers.Dense(512, activation='relu'))\n",
    "    model.add(layers.Dense(output_dim, activation='tanh'))\n",
    "    return model\n",
    "\n",
    "# Define the critic model\n",
    "def build_critic(input_dim):\n",
    "    model = tf.keras.Sequential()\n",
    "    model.add(layers.Dense(512, activation='relu', input_dim=input_dim))\n",
    "    model.add(layers.Dense(256, activation='relu'))\n",
    "    model.add(layers.Dense(1))\n",
    "    return model\n",
    "\n",
    "# Build the generator and critic\n",
    "input_dim = 100  # Dimension of the noise vector\n",
    "output_dim = X_attack.shape[1]  # Number of features in the dataset\n",
    "generator = build_generator(input_dim, output_dim)\n",
    "critic = build_critic(output_dim)"
   ]
  },
  {
   "cell_type": "code",
   "execution_count": 16,
   "metadata": {},
   "outputs": [],
   "source": [
    "class WGAN(tf.keras.Model):\n",
    "    def __init__(self, generator, critic, gp_weight=10.0):\n",
    "        super(WGAN, self).__init__()\n",
    "        self.generator = generator\n",
    "        self.critic = critic\n",
    "        self.gp_weight = gp_weight\n",
    "\n",
    "    def compile(self, g_optimizer, c_optimizer, g_loss_fn, c_loss_fn):\n",
    "        super(WGAN, self).compile()\n",
    "        self.g_optimizer = g_optimizer\n",
    "        self.c_optimizer = c_optimizer\n",
    "        self.g_loss_fn = g_loss_fn\n",
    "        self.c_loss_fn = c_loss_fn\n",
    "\n",
    "    def gradient_penalty(self, batch_size, real_data, fake_data):\n",
    "        alpha = tf.random.normal([batch_size, 1], 0.0, 1.0)\n",
    "        diff = fake_data - real_data\n",
    "        interpolated = real_data + alpha * diff\n",
    "\n",
    "        with tf.GradientTape() as gp_tape:\n",
    "            gp_tape.watch(interpolated)\n",
    "            pred = self.critic(interpolated, training=True)\n",
    "\n",
    "        grads = gp_tape.gradient(pred, [interpolated])[0]\n",
    "        norm = tf.sqrt(tf.reduce_sum(tf.square(grads), axis=[1]))\n",
    "        gp = tf.reduce_mean((norm - 1.0) ** 2)\n",
    "        return gp\n",
    "\n",
    "    def train_step(self, real_data):\n",
    "        batch_size = tf.shape(real_data)[0]\n",
    "        for _ in range(5):\n",
    "            noise = tf.random.normal([batch_size, input_dim])\n",
    "            with tf.GradientTape() as c_tape:\n",
    "                fake_data = self.generator(noise, training=True)\n",
    "                real_output = self.critic(real_data, training=True)\n",
    "                fake_output = self.critic(fake_data, training=True)\n",
    "                c_loss = self.c_loss_fn(real_output, fake_output)\n",
    "                gp = self.gradient_penalty(batch_size, real_data, fake_data)\n",
    "                c_loss += gp * self.gp_weight\n",
    "\n",
    "            c_grads = c_tape.gradient(c_loss, self.critic.trainable_variables)\n",
    "            self.c_optimizer.apply_gradients(zip(c_grads, self.critic.trainable_variables))\n",
    "\n",
    "        noise = tf.random.normal([batch_size, input_dim])\n",
    "        with tf.GradientTape() as g_tape:\n",
    "            fake_data = self.generator(noise, training=True)\n",
    "            fake_output = self.critic(fake_data, training=True)\n",
    "            g_loss = self.g_loss_fn(fake_output)\n",
    "\n",
    "        g_grads = g_tape.gradient(g_loss, self.generator.trainable_variables)\n",
    "        self.g_optimizer.apply_gradients(zip(g_grads, self.generator.trainable_variables))\n",
    "\n",
    "        return {\"c_loss\": c_loss, \"g_loss\": g_loss}\n",
    "\n",
    "# Define the loss functions\n",
    "def generator_loss(fake_output):\n",
    "    return -tf.reduce_mean(fake_output)\n",
    "\n",
    "def critic_loss(real_output, fake_output):\n",
    "    return tf.reduce_mean(fake_output) - tf.reduce_mean(real_output)\n",
    "\n",
    "# Instantiate the WGAN model\n",
    "wgan = WGAN(generator, critic)\n",
    "\n",
    "# Compile the WGAN model\n",
    "wgan.compile(\n",
    "    g_optimizer=tf.keras.optimizers.Adam(learning_rate=0.0001, beta_1=0.5, beta_2=0.9),\n",
    "    c_optimizer=tf.keras.optimizers.Adam(learning_rate=0.0001, beta_1=0.5, beta_2=0.9),\n",
    "    g_loss_fn=generator_loss,\n",
    "    c_loss_fn=critic_loss\n",
    ")"
   ]
  },
  {
   "cell_type": "code",
   "execution_count": 13,
   "metadata": {},
   "outputs": [
    {
     "name": "stderr",
     "output_type": "stream",
     "text": [
      "Training Progress:   0%|          | 0/10000 [00:00<?, ?it/s]WARNING:absl:You are saving your model as an HDF5 file via `model.save()` or `keras.saving.save_model(model)`. This file format is considered legacy. We recommend using instead the native Keras format, e.g. `model.save('my_model.keras')` or `keras.saving.save_model(model, 'my_model.keras')`. \n",
      "WARNING:absl:You are saving your model as an HDF5 file via `model.save()` or `keras.saving.save_model(model)`. This file format is considered legacy. We recommend using instead the native Keras format, e.g. `model.save('my_model.keras')` or `keras.saving.save_model(model, 'my_model.keras')`. \n",
      "Training Progress:   0%|          | 2/10000 [00:00<24:43,  6.74it/s]"
     ]
    },
    {
     "name": "stdout",
     "output_type": "stream",
     "text": [
      "Epoch: 0 - Models saved\n",
      "Epoch: 0 - g_loss: -0.17163310945034027, c_loss: -0.29887911677360535\n"
     ]
    },
    {
     "name": "stderr",
     "output_type": "stream",
     "text": [
      "Training Progress:  10%|█         | 1000/10000 [02:18<20:26,  7.34it/s]WARNING:absl:You are saving your model as an HDF5 file via `model.save()` or `keras.saving.save_model(model)`. This file format is considered legacy. We recommend using instead the native Keras format, e.g. `model.save('my_model.keras')` or `keras.saving.save_model(model, 'my_model.keras')`. \n",
      "WARNING:absl:You are saving your model as an HDF5 file via `model.save()` or `keras.saving.save_model(model)`. This file format is considered legacy. We recommend using instead the native Keras format, e.g. `model.save('my_model.keras')` or `keras.saving.save_model(model, 'my_model.keras')`. \n",
      "Training Progress:  10%|█         | 1002/10000 [02:18<20:50,  7.20it/s]"
     ]
    },
    {
     "name": "stdout",
     "output_type": "stream",
     "text": [
      "Epoch: 1000 - Models saved\n",
      "Epoch: 1000 - g_loss: -0.3213610053062439, c_loss: -0.21182796359062195\n"
     ]
    },
    {
     "name": "stderr",
     "output_type": "stream",
     "text": [
      "Training Progress:  20%|██        | 2000/10000 [04:37<18:49,  7.08it/s]WARNING:absl:You are saving your model as an HDF5 file via `model.save()` or `keras.saving.save_model(model)`. This file format is considered legacy. We recommend using instead the native Keras format, e.g. `model.save('my_model.keras')` or `keras.saving.save_model(model, 'my_model.keras')`. \n",
      "WARNING:absl:You are saving your model as an HDF5 file via `model.save()` or `keras.saving.save_model(model)`. This file format is considered legacy. We recommend using instead the native Keras format, e.g. `model.save('my_model.keras')` or `keras.saving.save_model(model, 'my_model.keras')`. \n",
      "Training Progress:  20%|██        | 2002/10000 [04:37<18:59,  7.02it/s]"
     ]
    },
    {
     "name": "stdout",
     "output_type": "stream",
     "text": [
      "Epoch: 2000 - Models saved\n",
      "Epoch: 2000 - g_loss: -0.2794867157936096, c_loss: -0.15872853994369507\n"
     ]
    },
    {
     "name": "stderr",
     "output_type": "stream",
     "text": [
      "Training Progress:  30%|███       | 3000/10000 [06:54<15:59,  7.29it/s]WARNING:absl:You are saving your model as an HDF5 file via `model.save()` or `keras.saving.save_model(model)`. This file format is considered legacy. We recommend using instead the native Keras format, e.g. `model.save('my_model.keras')` or `keras.saving.save_model(model, 'my_model.keras')`. \n",
      "WARNING:absl:You are saving your model as an HDF5 file via `model.save()` or `keras.saving.save_model(model)`. This file format is considered legacy. We recommend using instead the native Keras format, e.g. `model.save('my_model.keras')` or `keras.saving.save_model(model, 'my_model.keras')`. \n",
      "Training Progress:  30%|███       | 3002/10000 [06:54<16:20,  7.13it/s]"
     ]
    },
    {
     "name": "stdout",
     "output_type": "stream",
     "text": [
      "Epoch: 3000 - Models saved\n",
      "Epoch: 3000 - g_loss: -0.6785202622413635, c_loss: -0.18880416452884674\n"
     ]
    },
    {
     "name": "stderr",
     "output_type": "stream",
     "text": [
      "Training Progress:  40%|████      | 4000/10000 [09:12<13:09,  7.60it/s]WARNING:absl:You are saving your model as an HDF5 file via `model.save()` or `keras.saving.save_model(model)`. This file format is considered legacy. We recommend using instead the native Keras format, e.g. `model.save('my_model.keras')` or `keras.saving.save_model(model, 'my_model.keras')`. \n",
      "WARNING:absl:You are saving your model as an HDF5 file via `model.save()` or `keras.saving.save_model(model)`. This file format is considered legacy. We recommend using instead the native Keras format, e.g. `model.save('my_model.keras')` or `keras.saving.save_model(model, 'my_model.keras')`. \n",
      "Training Progress:  40%|████      | 4002/10000 [09:13<13:22,  7.47it/s]"
     ]
    },
    {
     "name": "stdout",
     "output_type": "stream",
     "text": [
      "Epoch: 4000 - Models saved\n",
      "Epoch: 4000 - g_loss: -0.5824485421180725, c_loss: -0.2043652981519699\n"
     ]
    },
    {
     "name": "stderr",
     "output_type": "stream",
     "text": [
      "Training Progress:  50%|█████     | 5000/10000 [11:23<12:10,  6.84it/s]WARNING:absl:You are saving your model as an HDF5 file via `model.save()` or `keras.saving.save_model(model)`. This file format is considered legacy. We recommend using instead the native Keras format, e.g. `model.save('my_model.keras')` or `keras.saving.save_model(model, 'my_model.keras')`. \n",
      "WARNING:absl:You are saving your model as an HDF5 file via `model.save()` or `keras.saving.save_model(model)`. This file format is considered legacy. We recommend using instead the native Keras format, e.g. `model.save('my_model.keras')` or `keras.saving.save_model(model, 'my_model.keras')`. \n",
      "Training Progress:  50%|█████     | 5002/10000 [11:23<12:01,  6.92it/s]"
     ]
    },
    {
     "name": "stdout",
     "output_type": "stream",
     "text": [
      "Epoch: 5000 - Models saved\n",
      "Epoch: 5000 - g_loss: -0.36491483449935913, c_loss: -0.17142266035079956\n"
     ]
    },
    {
     "name": "stderr",
     "output_type": "stream",
     "text": [
      "Training Progress:  60%|██████    | 6000/10000 [13:38<09:30,  7.01it/s]WARNING:absl:You are saving your model as an HDF5 file via `model.save()` or `keras.saving.save_model(model)`. This file format is considered legacy. We recommend using instead the native Keras format, e.g. `model.save('my_model.keras')` or `keras.saving.save_model(model, 'my_model.keras')`. \n",
      "WARNING:absl:You are saving your model as an HDF5 file via `model.save()` or `keras.saving.save_model(model)`. This file format is considered legacy. We recommend using instead the native Keras format, e.g. `model.save('my_model.keras')` or `keras.saving.save_model(model, 'my_model.keras')`. \n",
      "Training Progress:  60%|██████    | 6002/10000 [13:38<09:31,  7.00it/s]"
     ]
    },
    {
     "name": "stdout",
     "output_type": "stream",
     "text": [
      "Epoch: 6000 - Models saved\n",
      "Epoch: 6000 - g_loss: -1.108485221862793, c_loss: -0.1489003449678421\n"
     ]
    },
    {
     "name": "stderr",
     "output_type": "stream",
     "text": [
      "Training Progress:  70%|███████   | 7000/10000 [15:54<06:48,  7.34it/s]WARNING:absl:You are saving your model as an HDF5 file via `model.save()` or `keras.saving.save_model(model)`. This file format is considered legacy. We recommend using instead the native Keras format, e.g. `model.save('my_model.keras')` or `keras.saving.save_model(model, 'my_model.keras')`. \n",
      "WARNING:absl:You are saving your model as an HDF5 file via `model.save()` or `keras.saving.save_model(model)`. This file format is considered legacy. We recommend using instead the native Keras format, e.g. `model.save('my_model.keras')` or `keras.saving.save_model(model, 'my_model.keras')`. \n",
      "Training Progress:  70%|███████   | 7002/10000 [15:54<06:56,  7.20it/s]"
     ]
    },
    {
     "name": "stdout",
     "output_type": "stream",
     "text": [
      "Epoch: 7000 - Models saved\n",
      "Epoch: 7000 - g_loss: -1.281299352645874, c_loss: -0.16613397002220154\n"
     ]
    },
    {
     "name": "stderr",
     "output_type": "stream",
     "text": [
      "Training Progress:  80%|████████  | 8000/10000 [18:09<04:27,  7.48it/s]WARNING:absl:You are saving your model as an HDF5 file via `model.save()` or `keras.saving.save_model(model)`. This file format is considered legacy. We recommend using instead the native Keras format, e.g. `model.save('my_model.keras')` or `keras.saving.save_model(model, 'my_model.keras')`. \n",
      "WARNING:absl:You are saving your model as an HDF5 file via `model.save()` or `keras.saving.save_model(model)`. This file format is considered legacy. We recommend using instead the native Keras format, e.g. `model.save('my_model.keras')` or `keras.saving.save_model(model, 'my_model.keras')`. \n",
      "Training Progress:  80%|████████  | 8002/10000 [18:10<04:32,  7.34it/s]"
     ]
    },
    {
     "name": "stdout",
     "output_type": "stream",
     "text": [
      "Epoch: 8000 - Models saved\n",
      "Epoch: 8000 - g_loss: -1.567115068435669, c_loss: -0.1259302794933319\n"
     ]
    },
    {
     "name": "stderr",
     "output_type": "stream",
     "text": [
      "Training Progress:  90%|█████████ | 9000/10000 [20:24<02:14,  7.42it/s]WARNING:absl:You are saving your model as an HDF5 file via `model.save()` or `keras.saving.save_model(model)`. This file format is considered legacy. We recommend using instead the native Keras format, e.g. `model.save('my_model.keras')` or `keras.saving.save_model(model, 'my_model.keras')`. \n",
      "WARNING:absl:You are saving your model as an HDF5 file via `model.save()` or `keras.saving.save_model(model)`. This file format is considered legacy. We recommend using instead the native Keras format, e.g. `model.save('my_model.keras')` or `keras.saving.save_model(model, 'my_model.keras')`. \n",
      "Training Progress:  90%|█████████ | 9002/10000 [20:24<02:16,  7.29it/s]"
     ]
    },
    {
     "name": "stdout",
     "output_type": "stream",
     "text": [
      "Epoch: 9000 - Models saved\n",
      "Epoch: 9000 - g_loss: -1.4376308917999268, c_loss: -0.12999986112117767\n"
     ]
    },
    {
     "name": "stderr",
     "output_type": "stream",
     "text": [
      "Training Progress: 100%|██████████| 10000/10000 [22:39<00:00,  7.36it/s]\n"
     ]
    },
    {
     "data": {
      "image/png": "[encoded data removed]",
      "text/plain": [
       "<Figure size 1000x500 with 1 Axes>"
      ]
     },
     "metadata": {},
     "output_type": "display_data"
    }
   ],
   "source": [
    "import matplotlib.pyplot as plt\n",
    "from tqdm import tqdm\n",
    "\n",
    "# Training parameters\n",
    "epochs = 10\n",
    "batch_size = 64\n",
    "save_interval = 1000  # Save the model every 1000 epochs\n",
    "\n",
    "# Lists to store losses\n",
    "g_losses = []\n",
    "c_losses = []\n",
    "\n",
    "# Training loop with progress bar\n",
    "for epoch in tqdm(range(epochs), desc=\"Training Progress\"):\n",
    "    idx = np.random.randint(0, X_attack.shape[0], batch_size)\n",
    "    real_data = X_attack[idx]\n",
    "    losses = wgan.train_step(real_data)\n",
    "    \n",
    "    # Store the losses\n",
    "    g_losses.append(losses['g_loss'])\n",
    "    c_losses.append(losses['c_loss'])\n",
    "\n",
    "    if epoch % save_interval == 0:\n",
    "        # Save the generator and critic models\n",
    "        generator.save(f'generator_epoch_{epoch}.h5')\n",
    "        critic.save(f'critic_epoch_{epoch}.h5')\n",
    "        print(f\"Epoch: {epoch} - Models saved\")\n",
    "\n",
    "    if epoch % 1000 == 0:\n",
    "        print(f\"Epoch: {epoch} - g_loss: {losses['g_loss']}, c_loss: {losses['c_loss']}\")\n",
    "\n",
    "# Plot the losses\n",
    "plt.figure(figsize=(10, 5))\n",
    "plt.plot(g_losses, label='Generator Loss')\n",
    "plt.plot(c_losses, label='Critic Loss')\n",
    "plt.xlabel('Epoch')\n",
    "plt.ylabel('Loss')\n",
    "plt.legend()\n",
    "plt.title('Generator and Critic Losses During Training')\n",
    "plt.show()"
   ]
  },
  {
   "cell_type": "code",
   "execution_count": 22,
   "metadata": {},
   "outputs": [
    {
     "name": "stdout",
     "output_type": "stream",
     "text": [
      "\u001b[1m32/32\u001b[0m \u001b[32m━━━━━━━━━━━━━━━━━━━━\u001b[0m\u001b[37m\u001b[0m \u001b[1m0s\u001b[0m 1ms/step \n",
      "[[-0.17602828 -0.19900507 -0.77602196 -0.9609295   0.17552584  0.19117926]\n",
      " [-0.27206904 -0.3318022  -0.7888015  -0.9532684   0.01287057  0.333454  ]\n",
      " [-0.24661228 -0.01418788 -0.77681994 -0.9586192  -0.05325079  0.5646955 ]\n",
      " ...\n",
      " [ 0.18776345 -0.19306044 -0.79936874 -0.9587785  -0.42100233  0.18594322]\n",
      " [ 0.04867445 -0.477964   -0.7493297  -0.96370584  0.16440375  0.7467761 ]\n",
      " [ 0.25404918 -0.45233938 -0.7725478  -0.9589488  -0.24840014  0.43887314]]\n"
     ]
    }
   ],
   "source": [
    "noise = np.random.normal(0, 1, (1000, 100))\n",
    "generated_data = generator.predict(noise)\n",
    "\n",
    "# Inverse transform to original scale\n",
    "generated_data = scaler.inverse_transform(generated_data)\n",
    "\n",
    "# Print the generated data\n",
    "print(generated_data)"
   ]
  },
  {
   "cell_type": "code",
   "execution_count": 19,
   "metadata": {},
   "outputs": [
    {
     "data": {
      "text/plain": [
       "array([[-0.65626574,  0.83186747, -1.20108091, ..., -2.70793574,\n",
       "         0.76399917,  0.07379519],\n",
       "       [ 0.2044359 , -0.24473942,  0.41001805, ..., -0.41698396,\n",
       "        -0.54653816, -0.8401619 ],\n",
       "       [-0.12113637, -0.09265315, -0.5374366 , ...,  1.05970802,\n",
       "         0.59469626, -1.80727038],\n",
       "       ...,\n",
       "       [ 0.22694557,  0.25055083, -0.58635138, ..., -0.33946221,\n",
       "        -0.08895603,  1.07715063],\n",
       "       [-0.23543292,  0.79644317,  0.55537063, ...,  1.52234934,\n",
       "        -0.46368668, -1.12172097],\n",
       "       [ 1.12040005,  0.82080698,  0.41936468, ..., -0.89070257,\n",
       "        -0.91633152,  0.67686788]])"
      ]
     },
     "execution_count": 19,
     "metadata": {},
     "output_type": "execute_result"
    }
   ],
   "source": [
    "noise = np.random.normal(0, 1, (1000, 100))\n",
    "noise"
   ]
  },
  {
   "cell_type": "code",
   "execution_count": 27,
   "metadata": {},
   "outputs": [
    {
     "name": "stdout",
     "output_type": "stream",
     "text": [
      "Generated attack data saved to 'generated_attack_data.csv'\n"
     ]
    }
   ],
   "source": [
    "import numpy as np\n",
    "import tensorflow as tf\n",
    "from sklearn.preprocessing import MinMaxScaler\n",
    "import pandas as pd\n",
    "\n",
    "# Load the saved generator model\n",
    "\n",
    "# Parameters\n",
    "num_samples = 1000  # Number of samples to generate\n",
    "noise_dim = 100  # Dimension of the noise vector\n",
    "\n",
    "# Generate noise\n",
    "noise = np.random.normal(0, 1, (num_samples, noise_dim))\n",
    "\n",
    "# Generate synthetic attack data\n",
    "synthetic_data = generator(noise, training=False)  # Directly call the generator model\n",
    "\n",
    "# Inverse transform to original scale\n",
    "scaler = MinMaxScaler(feature_range=(-1, 1))\n",
    "scaler.fit(X_attack)  # Assuming X_attack is the original attack data used for training\n",
    "synthetic_data = scaler.inverse_transform(synthetic_data)\n",
    "\n",
    "# Save the generated data to a CSV file\n",
    "generated_data_df = pd.DataFrame(synthetic_data, columns=['IN_BYTES', 'OUT_BYTES', 'IN_PKTS', 'OUT_PKTS', 'TCP_FLAGS', 'FLOW_DURATION_MILLISECONDS'])\n",
    "generated_data_df.to_csv('generated_attack_data.csv', index=False)\n",
    "\n",
    "print(\"Generated attack data saved to 'generated_attack_data.csv'\")"
   ]
  },
  {
   "cell_type": "code",
   "execution_count": 26,
   "metadata": {},
   "outputs": [
    {
     "name": "stdout",
     "output_type": "stream",
     "text": [
      "[[-0.17602828 -0.19900507 -0.77602196 -0.9609295   0.17552584  0.19117926]\n",
      " [-0.27206904 -0.3318022  -0.7888015  -0.9532684   0.01287057  0.333454  ]\n",
      " [-0.24661228 -0.01418788 -0.77681994 -0.9586192  -0.05325079  0.5646955 ]\n",
      " ...\n",
      " [ 0.18776345 -0.19306044 -0.79936874 -0.9587785  -0.42100233  0.18594322]\n",
      " [ 0.04867445 -0.477964   -0.7493297  -0.96370584  0.16440375  0.7467761 ]\n",
      " [ 0.25404918 -0.45233938 -0.7725478  -0.9589488  -0.24840014  0.43887314]]\n"
     ]
    }
   ],
   "source": [
    "\n",
    "# Convert the generated data to a DataFrame\n",
    "generated_df = pd.DataFrame(synthetic_data)\n",
    "\n",
    "# Save the DataFrame to a CSV file\n",
    "generated_df.to_csv('generated_attack_data.csv', index=False)\n",
    "\n",
    "# Print the generated data\n",
    "print(generated_data)"
   ]
  },
  {
   "cell_type": "code",
   "execution_count": 28,
   "metadata": {},
   "outputs": [
    {
     "name": "stdout",
     "output_type": "stream",
     "text": [
      "Generated attack data saved to 'generated_attack_data.csv'\n"
     ]
    }
   ],
   "source": [
    "import numpy as np\n",
    "import tensorflow as tf\n",
    "from sklearn.preprocessing import MinMaxScaler\n",
    "import pandas as pd\n",
    "\n",
    "# Load the preprocessed dataset to fit the scaler\n",
    "preprocessed_filename = \"../data/pre_processed/preprocessed_nf_uq_nids_haaa.csv\"\n",
    "data = pd.read_csv(preprocessed_filename)\n",
    "\n",
    "# Encode categorical labels\n",
    "label_encoder = LabelEncoder()\n",
    "data['Label'] = label_encoder.fit_transform(data['Label'])\n",
    "\n",
    "# Separate features and labels\n",
    "X = data.drop('Label', axis=1).values\n",
    "y = data['Label'].values\n",
    "\n",
    "# Filter only attack data for GAN training\n",
    "attack_label = 1  # Assuming 1 represents \"attack\"\n",
    "X_attack = X[y == attack_label]\n",
    "\n",
    "# Normalize the attack data to the range [-1, 1]\n",
    "scaler = MinMaxScaler(feature_range=(-1, 1))\n",
    "X_attack = scaler.fit_transform(X_attack)\n",
    "\n",
    "# Load the saved generator model\n",
    "\n",
    "# Parameters\n",
    "num_samples = 1000  # Number of samples to generate\n",
    "noise_dim = 100  # Dimension of the noise vector\n",
    "\n",
    "# Generate noise\n",
    "noise = np.random.normal(0, 1, (num_samples, noise_dim))\n",
    "\n",
    "# Generate synthetic attack data\n",
    "synthetic_data = generator(noise, training=False)  # Directly call the generator model\n",
    "\n",
    "# Inverse transform to original scale\n",
    "synthetic_data = scaler.inverse_transform(synthetic_data)\n",
    "\n",
    "# Save the generated data to a CSV file\n",
    "generated_data_df = pd.DataFrame(synthetic_data, columns=['IN_BYTES', 'OUT_BYTES', 'IN_PKTS', 'OUT_PKTS', 'TCP_FLAGS', 'FLOW_DURATION_MILLISECONDS'])\n",
    "generated_data_df.to_csv('generated_attack_data.csv', index=False)\n",
    "\n",
    "print(\"Generated attack data saved to 'generated_attack_data.csv'\")"
   ]
  },
  {
   "cell_type": "code",
   "execution_count": 29,
   "metadata": {},
   "outputs": [
    {
     "name": "stderr",
     "output_type": "stream",
     "text": [
      "WARNING:absl:You are saving your model as an HDF5 file via `model.save()` or `keras.saving.save_model(model)`. This file format is considered legacy. We recommend using instead the native Keras format, e.g. `model.save('my_model.keras')` or `keras.saving.save_model(model, 'my_model.keras')`. \n"
     ]
    }
   ],
   "source": [
    "generator.save('generator.h5')"
   ]
  },
  {
   "cell_type": "code",
   "execution_count": null,
   "metadata": {},
   "outputs": [],
   "source": []
  },
  {
   "cell_type": "code",
   "execution_count": 3,
   "metadata": {},
   "outputs": [],
   "source": [
    "import tensorflow as tf\n",
    "import numpy as np\n"
   ]
  },
  {
   "cell_type": "code",
   "execution_count": 4,
   "metadata": {},
   "outputs": [
    {
     "name": "stderr",
     "output_type": "stream",
     "text": [
      "WARNING:absl:No training configuration found in the save file, so the model was *not* compiled. Compile it manually.\n"
     ]
    }
   ],
   "source": [
    "generator = tf.keras.models.load_model('/Users/sanjanathyady/Desktop/project-2/models/ids/generator.h5')\n"
   ]
  },
  {
   "cell_type": "code",
   "execution_count": 8,
   "metadata": {},
   "outputs": [],
   "source": [
    "# Parameters\n",
    "from sklearn.preprocessing import MinMaxScaler\n",
    "\n",
    "num_samples = 1000  # Number of samples to generate\n",
    "noise_dim = 100  # Dimension of the noise vector\n",
    "\n",
    "# Generate noise\n",
    "noise = np.random.normal(0, 1, (num_samples, noise_dim))\n",
    "\n",
    "# Generate synthetic attack data\n",
    "synthetic_data = generator(noise, training=False) "
   ]
  },
  {
   "cell_type": "code",
   "execution_count": 9,
   "metadata": {},
   "outputs": [
    {
     "data": {
      "text/plain": [
       "<tf.Tensor: shape=(1000, 6), dtype=float32, numpy=\n",
       "array([[-0.19299981, -0.21282403, -0.287265  , -0.13676944, -0.02671264,\n",
       "         0.20016527],\n",
       "       [-0.3030917 , -0.35902587, -0.4694474 , -0.03678836, -0.22776043,\n",
       "         0.40976208],\n",
       "       [-0.19860603, -0.21518709,  0.1222023 , -0.08327872, -0.07591113,\n",
       "         0.11415283],\n",
       "       ...,\n",
       "       [-0.50945723, -0.2443253 , -0.04284663, -0.45203784,  0.00754227,\n",
       "         0.58714306],\n",
       "       [-0.20263049, -0.29473776, -0.19672394, -0.54135215, -0.17003618,\n",
       "         0.692928  ],\n",
       "       [ 0.04314157, -0.21050586,  0.09015071,  0.18408927, -0.25383794,\n",
       "         0.14485992]], dtype=float32)>"
      ]
     },
     "execution_count": 9,
     "metadata": {},
     "output_type": "execute_result"
    }
   ],
   "source": [
    "synthetic_data"
   ]
  },
  {
   "cell_type": "code",
   "execution_count": 11,
   "metadata": {},
   "outputs": [
    {
     "ename": "NameError",
     "evalue": "name 'X_attack' is not defined",
     "output_type": "error",
     "traceback": [
      "\u001b[0;31m---------------------------------------------------------------------------\u001b[0m",
      "\u001b[0;31mNameError\u001b[0m                                 Traceback (most recent call last)",
      "Cell \u001b[0;32mIn[11], line 3\u001b[0m\n\u001b[1;32m      1\u001b[0m \u001b[38;5;66;03m# Inverse transform to original scale\u001b[39;00m\n\u001b[1;32m      2\u001b[0m scaler \u001b[38;5;241m=\u001b[39m MinMaxScaler(feature_range\u001b[38;5;241m=\u001b[39m(\u001b[38;5;241m-\u001b[39m\u001b[38;5;241m1\u001b[39m, \u001b[38;5;241m1\u001b[39m))\n\u001b[0;32m----> 3\u001b[0m scaler\u001b[38;5;241m.\u001b[39mfit(\u001b[43mX_attack\u001b[49m)  \u001b[38;5;66;03m# Assuming X_attack is the original attack data used for training\u001b[39;00m\n\u001b[1;32m      4\u001b[0m synthetic_data \u001b[38;5;241m=\u001b[39m scaler\u001b[38;5;241m.\u001b[39minverse_transform(synthetic_data)\n",
      "\u001b[0;31mNameError\u001b[0m: name 'X_attack' is not defined"
     ]
    }
   ],
   "source": [
    "\n",
    "# Inverse transform to original scale\n",
    "scaler = MinMaxScaler(feature_range=(-1, 1))\n",
    "scaler.fit(X_attack)  # Assuming X_attack is the original attack data used for training\n",
    "synthetic_data = scaler.inverse_transform(synthetic_data)"
   ]
  },
  {
   "cell_type": "code",
   "execution_count": null,
   "metadata": {},
   "outputs": [],
   "source": []
  }
 ],
 "metadata": {
  "kernelspec": {
   "display_name": ".venv",
   "language": "python",
   "name": "python3"
  },
  "language_info": {
   "codemirror_mode": {
    "name": "ipython",
    "version": 3
   },
   "file_extension": ".py",
   "mimetype": "text/x-python",
   "name": "python",
   "nbconvert_exporter": "python",
   "pygments_lexer": "ipython3",
   "version": "3.9.17"
  }
 },
 "nbformat": 4,
 "nbformat_minor": 2
}
